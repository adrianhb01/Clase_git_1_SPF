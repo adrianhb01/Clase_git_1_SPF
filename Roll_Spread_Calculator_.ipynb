{
  "nbformat": 4,
  "nbformat_minor": 0,
  "metadata": {
    "colab": {
      "provenance": [],
      "authorship_tag": "ABX9TyPbKBfceiCRLU34dEZXsqt+",
      "include_colab_link": true
    },
    "kernelspec": {
      "name": "python3",
      "display_name": "Python 3"
    },
    "language_info": {
      "name": "python"
    }
  },
  "cells": [
    {
      "cell_type": "markdown",
      "metadata": {
        "id": "view-in-github",
        "colab_type": "text"
      },
      "source": [
        "<a href=\"https://colab.research.google.com/github/adrianhb01/Clase_git_1_SPF/blob/main/Roll_Spread_Calculator_.ipynb\" target=\"_parent\"><img src=\"https://colab.research.google.com/assets/colab-badge.svg\" alt=\"Open In Colab\"/></a>"
      ]
    },
    {
      "cell_type": "markdown",
      "source": [
        "<img style=\"float: right; margin: 5px 5px 20px 20px;\" src=\"https://upload.wikimedia.org/wikipedia/commons/d/db/Logo_ITESO_normal.jpg\" width=\"100px\" height=\"75px\"/>\n",
        "\n",
        "# Roll Spread Calculator\n",
        "\n",
        "## Ingeniería Financiera - Microestructura y Sistemas de Trading\n",
        "\n",
        "### 27 de mayo de 2025.\n",
        "\n",
        "> **Por:** Gustavo Adrián Herrera Barragán\n",
        "\n",
        "––––––––––––––––––––––––––––––––––––––––––––––––––––––––––––––––––––––––––––––"
      ],
      "metadata": {
        "id": "JeBZkRBAQ58u"
      }
    },
    {
      "cell_type": "code",
      "source": [
        "import numpy as np\n",
        "import pandas as pd\n",
        "import yfinance as yf\n",
        "\n",
        "class RollSpreadCalculator:\n",
        "    def __init__(self, ticker: str) -> None:\n",
        "        self.ticker = ticker\n",
        "\n",
        "    def download_from_yfinance(self, price_type: str = \"Close\") -> pd.Series:\n",
        "        data = yf.download(self.ticker, period='2d', interval=\"1m\")\n",
        "        return data[price_type]\n",
        "\n",
        "    def returns_from_ticker(self) -> pd.Series:\n",
        "        prices = self.download_from_yfinance()\n",
        "        returns = np.log(prices / prices.shift(1)).dropna()\n",
        "        print(f\"Log returns calculados: {len(returns)} observaciones\")\n",
        "        return returns\n",
        "\n",
        "    def roll_spread(self) -> float:\n",
        "        returns = self.returns_from_ticker()\n",
        "\n",
        "        # Calcular covarianza manualmente\n",
        "        rt = returns.values[1:]       # R_t\n",
        "        rt_1 = returns.values[:-1]    # R_{t-1}\n",
        "\n",
        "        # Covarianza manual: E[(X-μx)(Y-μy)]\n",
        "        mean_rt = np.mean(rt)\n",
        "        mean_rt_1 = np.mean(rt_1)\n",
        "        cov = np.mean((rt - mean_rt) * (rt_1 - mean_rt_1))\n",
        "\n",
        "        print(f\"Covarianza R_t, R_t-1: {cov:.8f}\")\n",
        "\n",
        "        if cov < 0:\n",
        "            spread = 2 * np.sqrt(-cov)\n",
        "        else:\n",
        "            spread = np.nan\n",
        "\n",
        "        print(f\"Spread efectivo estimado: {spread:.6f}\")\n",
        "        return spread\n",
        "\n",
        "if __name__ == '__main__':\n",
        "    ticker = 'MSFT'\n",
        "    msft = RollSpreadCalculator(ticker)\n",
        "    msft.roll_spread()"
      ],
      "metadata": {
        "id": "KAaTUmcYLrJT",
        "colab": {
          "base_uri": "https://localhost:8080/"
        },
        "outputId": "266a90bb-2885-421a-b7e6-5989429aeb72"
      },
      "execution_count": 31,
      "outputs": [
        {
          "output_type": "stream",
          "name": "stderr",
          "text": [
            "\r[*********************100%***********************]  1 of 1 completed"
          ]
        },
        {
          "output_type": "stream",
          "name": "stdout",
          "text": [
            "Log returns calculados: 431 observaciones\n",
            "Covarianza R_t, R_t-1: -0.00000000\n",
            "Spread efectivo estimado: 0.000128\n"
          ]
        },
        {
          "output_type": "stream",
          "name": "stderr",
          "text": [
            "\n"
          ]
        }
      ]
    },
    {
      "cell_type": "code",
      "source": [],
      "metadata": {
        "id": "RwIF9TI_QZ_X"
      },
      "execution_count": null,
      "outputs": []
    }
  ]
}